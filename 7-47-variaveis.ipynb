{
 "cells": [
  {
   "cell_type": "code",
   "execution_count": 1,
   "id": "de52082b",
   "metadata": {},
   "outputs": [
    {
     "name": "stdout",
     "output_type": "stream",
     "text": [
      "1\n",
      "3.14\n",
      "Python\n",
      "True\n"
     ]
    }
   ],
   "source": [
    "x = 1\n",
    "print(x)\n",
    "\n",
    "# cria uma variavel do tipo float\n",
    "y = 3.14\n",
    "print(y)\n",
    "\n",
    "# cria uma variavel do tipo string\n",
    "m = \"Python\" # or 'Python'\n",
    "print(m)\n",
    "\n",
    "# cria uma variavel do tipo booleano\n",
    "w = True\n",
    "z = False\n",
    "print(w)"
   ]
  },
  {
   "cell_type": "code",
   "execution_count": 3,
   "id": "9e6aa118",
   "metadata": {},
   "outputs": [
    {
     "name": "stdout",
     "output_type": "stream",
     "text": [
      "30.0\n"
     ]
    }
   ],
   "source": [
    "# Calculadora\n",
    "\n",
    "x = 10\n",
    "y = 20\n",
    "z = 100\n",
    "w = (x + y) * z / 100\n",
    "print(w)"
   ]
  },
  {
   "cell_type": "code",
   "execution_count": 4,
   "id": "9175860b",
   "metadata": {},
   "outputs": [
    {
     "name": "stdout",
     "output_type": "stream",
     "text": [
      "este texto sera impresso no console\n",
      "10\n",
      "texto e duas variaveis  10 ,  100\n"
     ]
    }
   ],
   "source": [
    "# exibir texto no console\n",
    "print(\"este texto sera impresso no console\")\n",
    "print(x)\n",
    "print(\"texto e duas variaveis \", x, \", \", z)"
   ]
  },
  {
   "cell_type": "code",
   "execution_count": 9,
   "id": "c984aa81",
   "metadata": {},
   "outputs": [
    {
     "name": "stdout",
     "output_type": "stream",
     "text": [
      "Informe um valor\n",
      "<class 'str'>\n"
     ]
    }
   ],
   "source": [
    "# Recebendo dados do usuario\n",
    "print(\"Informe um valor\")\n",
    "i = input()\n",
    "# Mostra tipo string\n",
    "print(type(i))"
   ]
  },
  {
   "cell_type": "code",
   "execution_count": 10,
   "id": "93537c4b",
   "metadata": {},
   "outputs": [
    {
     "name": "stdout",
     "output_type": "stream",
     "text": [
      "<class 'str'>\n"
     ]
    }
   ],
   "source": [
    "# Recebendo dados do usuario\n",
    "i = input(\"Informe o valor\")\n",
    "# Mostra tipo string\n",
    "print(type(i))"
   ]
  },
  {
   "cell_type": "code",
   "execution_count": null,
   "id": "ee224c3d",
   "metadata": {},
   "outputs": [
    {
     "name": "stdout",
     "output_type": "stream",
     "text": [
      "<class 'str'>\n",
      "<class 'int'>\n"
     ]
    }
   ],
   "source": [
    "# Conversao de valores\n",
    "# para inteiro\n",
    "var = input(\"Informe um valor: \")\n",
    "print(type(var))\n",
    "var = int(var)\n",
    "print(type(var))"
   ]
  },
  {
   "cell_type": "code",
   "execution_count": 12,
   "id": "e505c492",
   "metadata": {},
   "outputs": [
    {
     "name": "stdout",
     "output_type": "stream",
     "text": [
      "<class 'str'>\n",
      "<class 'float'>\n"
     ]
    }
   ],
   "source": [
    "# Conversao de valores\n",
    "# para inteiro\n",
    "var = input(\"Informe um valor: \")\n",
    "print(type(var))\n",
    "var = float(var)\n",
    "print(type(var))"
   ]
  }
 ],
 "metadata": {
  "kernelspec": {
   "display_name": "jupyter_env",
   "language": "python",
   "name": "python3"
  },
  "language_info": {
   "codemirror_mode": {
    "name": "ipython",
    "version": 3
   },
   "file_extension": ".py",
   "mimetype": "text/x-python",
   "name": "python",
   "nbconvert_exporter": "python",
   "pygments_lexer": "ipython3",
   "version": "3.12.3"
  }
 },
 "nbformat": 4,
 "nbformat_minor": 5
}
