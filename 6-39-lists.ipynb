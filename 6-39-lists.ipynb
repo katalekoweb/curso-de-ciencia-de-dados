{
 "cells": [
  {
   "cell_type": "code",
   "execution_count": 2,
   "id": "cb75f204",
   "metadata": {},
   "outputs": [
    {
     "name": "stdout",
     "output_type": "stream",
     "text": [
      "[0, 1, 2, 3, 4, 5, 6, 7, 8, 9]\n"
     ]
    }
   ],
   "source": [
    "lst = [1,2,3,4,5,6]\n",
    "list2 = [1,2,3,4,5,6,7,8,9]\n",
    "lst3 = [12,[1,3,4,5,7], \"a\"]\n",
    "lst4 = list(range(0,10))\n",
    "print(lst4)"
   ]
  },
  {
   "cell_type": "code",
   "execution_count": 3,
   "id": "9829d9ec",
   "metadata": {},
   "outputs": [
    {
     "data": {
      "text/plain": [
       "1"
      ]
     },
     "execution_count": 3,
     "metadata": {},
     "output_type": "execute_result"
    }
   ],
   "source": [
    "# acesso as listas\n",
    "lst[0]"
   ]
  },
  {
   "cell_type": "code",
   "execution_count": 8,
   "id": "b5dbfe6a",
   "metadata": {},
   "outputs": [
    {
     "data": {
      "text/plain": [
       "6"
      ]
     },
     "execution_count": 8,
     "metadata": {},
     "output_type": "execute_result"
    }
   ],
   "source": [
    "# tamanho da listas\n",
    "lst.__len__()"
   ]
  }
 ],
 "metadata": {
  "kernelspec": {
   "display_name": "jupyter_env",
   "language": "python",
   "name": "python3"
  },
  "language_info": {
   "codemirror_mode": {
    "name": "ipython",
    "version": 3
   },
   "file_extension": ".py",
   "mimetype": "text/x-python",
   "name": "python",
   "nbconvert_exporter": "python",
   "pygments_lexer": "ipython3",
   "version": "3.12.3"
  }
 },
 "nbformat": 4,
 "nbformat_minor": 5
}
