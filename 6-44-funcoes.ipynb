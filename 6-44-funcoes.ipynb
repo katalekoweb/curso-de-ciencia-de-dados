{
 "cells": [
  {
   "cell_type": "code",
   "execution_count": 2,
   "id": "055dc0cf",
   "metadata": {},
   "outputs": [
    {
     "name": "stdout",
     "output_type": "stream",
     "text": [
      "Hello World\n"
     ]
    }
   ],
   "source": [
    "# funcoes sao blocos de codigo que podem ser reutilizados\n",
    "# podem ser chamadas em qualquer parte do codigo\n",
    "\n",
    "def imprime ():\n",
    "    print('Hello World')\n",
    "\n",
    "imprime()"
   ]
  },
  {
   "cell_type": "code",
   "execution_count": 4,
   "id": "43e02e28",
   "metadata": {},
   "outputs": [
    {
     "name": "stdout",
     "output_type": "stream",
     "text": [
      "Hello Joao\n",
      "Hello Kataleko\n"
     ]
    }
   ],
   "source": [
    "def imprimeNome (nome):\n",
    "    print('Hello ' + nome)\n",
    "\n",
    "imprimeNome('Joao')\n",
    "imprimeNome('Kataleko')"
   ]
  },
  {
   "cell_type": "code",
   "execution_count": null,
   "id": "7b3d40ff",
   "metadata": {},
   "outputs": [
    {
     "name": "stdout",
     "output_type": "stream",
     "text": [
      "4\n"
     ]
    }
   ],
   "source": [
    "# funcao com retorno\n",
    "# retorna um valor para quem chamou a funcao\n",
    "def potencia (n):\n",
    "    return n * n\n",
    "\n",
    "x = potencia(2)\n",
    "print(x)"
   ]
  },
  {
   "cell_type": "code",
   "execution_count": 8,
   "id": "a48e1fcb",
   "metadata": {},
   "outputs": [
    {
     "name": "stdout",
     "output_type": "stream",
     "text": [
      "1\n",
      "2\n",
      "3\n",
      "4\n",
      "5\n",
      "---------------\n",
      "1\n",
      "2\n",
      "3\n",
      "4\n",
      "5\n",
      "6\n",
      "7\n",
      "8\n",
      "9\n",
      "10\n",
      "---------------\n"
     ]
    }
   ],
   "source": [
    "# funcao com valor padrao\n",
    "def intervalo (inic=1,fim=10):\n",
    "    for inic in range(1, fim+1):\n",
    "        print(inic)\n",
    "    print('---------------')\n",
    "\n",
    "intervalo(1, 5)\n",
    "intervalo()"
   ]
  }
 ],
 "metadata": {
  "kernelspec": {
   "display_name": "jupyter_env",
   "language": "python",
   "name": "python3"
  },
  "language_info": {
   "codemirror_mode": {
    "name": "ipython",
    "version": 3
   },
   "file_extension": ".py",
   "mimetype": "text/x-python",
   "name": "python",
   "nbconvert_exporter": "python",
   "pygments_lexer": "ipython3",
   "version": "3.12.3"
  }
 },
 "nbformat": 4,
 "nbformat_minor": 5
}
