{
 "cells": [
  {
   "cell_type": "code",
   "execution_count": null,
   "id": "248d4fc3",
   "metadata": {},
   "outputs": [
    {
     "name": "stdout",
     "output_type": "stream",
     "text": [
      "Valor da amplitude:  40\n"
     ]
    }
   ],
   "source": [
    "# tarefa 1 => Criar a funcao para calcular a aplitude\n",
    "lst = [10,20,30,40, 50]\n",
    "\n",
    "def calcularAmplitude (lst):\n",
    "    maxValue = max(lst)\n",
    "    minValue = min(lst)\n",
    "    return maxValue - minValue\n",
    "\n",
    "amplitude = calcularAmplitude(lst)\n",
    "print(\"Valor da amplitude: \", amplitude)"
   ]
  },
  {
   "cell_type": "code",
   "execution_count": 12,
   "id": "46bae8f4",
   "metadata": {},
   "outputs": [
    {
     "name": "stdout",
     "output_type": "stream",
     "text": [
      "G\n",
      "o\n",
      "o\n",
      "g\n",
      "l\n",
      "e\n"
     ]
    }
   ],
   "source": [
    "# tarefa 2 - criar funcao para imprimir string na vertical\n",
    "nome = \"Google\"\n",
    "\n",
    "def imprimirTextpNaVertical(texto):\n",
    "    for n in texto:\n",
    "        print(n)\n",
    "\n",
    "imprimirTextpNaVertical(nome)"
   ]
  },
  {
   "cell_type": "code",
   "execution_count": 23,
   "id": "921dfecb",
   "metadata": {},
   "outputs": [
    {
     "name": "stdout",
     "output_type": "stream",
     "text": [
      "Chegou...\n",
      "O seu preco e:  80 R$\n"
     ]
    }
   ],
   "source": [
    "# Tarefa 3 - preco por peso\n",
    "def precoPorPeso(peso):\n",
    "    preco = \"Invalido\"\n",
    "\n",
    "    if peso <= 10:\n",
    "        preco = 50\n",
    "    elif peso > 10 and peso <= 20:\n",
    "        print(\"Chegou...\")\n",
    "        preco = 80\n",
    "\n",
    "    return preco\n",
    "\n",
    "peso = 15\n",
    "preco = precoPorPeso(peso)\n",
    "print(\"O seu preco e: \", preco, \"R$\")"
   ]
  }
 ],
 "metadata": {
  "kernelspec": {
   "display_name": "jupyter_env (3.12.3)",
   "language": "python",
   "name": "python3"
  },
  "language_info": {
   "codemirror_mode": {
    "name": "ipython",
    "version": 3
   },
   "file_extension": ".py",
   "mimetype": "text/x-python",
   "name": "python",
   "nbconvert_exporter": "python",
   "pygments_lexer": "ipython3",
   "version": "3.12.3"
  }
 },
 "nbformat": 4,
 "nbformat_minor": 5
}
