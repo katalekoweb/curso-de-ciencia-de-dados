{
 "cells": [
  {
   "cell_type": "code",
   "execution_count": null,
   "id": "94297b7f",
   "metadata": {},
   "outputs": [],
   "source": [
    "# pandas trata de data frames que sao tabelas de dados\n",
    "# pandas é uma biblioteca de manipulação de dados\n",
    "# pandas é uma biblioteca de análise de dados\n",
    "\n",
    "# serve para tratar arquivos csv, excel, json, etc"
   ]
  }
 ],
 "metadata": {
  "language_info": {
   "name": "python"
  }
 },
 "nbformat": 4,
 "nbformat_minor": 5
}
