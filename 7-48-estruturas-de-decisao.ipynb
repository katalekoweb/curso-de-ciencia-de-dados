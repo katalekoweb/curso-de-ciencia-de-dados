{
 "cells": [
  {
   "cell_type": "code",
   "execution_count": 1,
   "id": "16ee2b17",
   "metadata": {},
   "outputs": [
    {
     "name": "stdout",
     "output_type": "stream",
     "text": [
      "Aprovado\n",
      "Parabens\n"
     ]
    }
   ],
   "source": [
    "nota = 7\n",
    "\n",
    "if nota >= 7:\n",
    "    print(\"Aprovado\")\n",
    "    print(\"Parabens\")\n",
    "else:\n",
    "    print(\"Reprovado\")\n",
    "    print(\"Estude mais\")"
   ]
  },
  {
   "cell_type": "code",
   "execution_count": 2,
   "id": "06cf895b",
   "metadata": {},
   "outputs": [
    {
     "name": "stdout",
     "output_type": "stream",
     "text": [
      "Reprovado\n",
      "Estude mais\n"
     ]
    }
   ],
   "source": [
    "nota = 5\n",
    "\n",
    "if nota >= 7:\n",
    "    print(\"Aprovado\")\n",
    "    print(\"Parabens\")\n",
    "else:\n",
    "    print(\"Reprovado\")\n",
    "    print(\"Estude mais\")"
   ]
  },
  {
   "cell_type": "code",
   "execution_count": 3,
   "id": "be8e3e7c",
   "metadata": {},
   "outputs": [
    {
     "name": "stdout",
     "output_type": "stream",
     "text": [
      "Aprovado\n"
     ]
    }
   ],
   "source": [
    "nota = 7\n",
    "\n",
    "if nota <= 4:\n",
    "    print(\"Repreovado\")\n",
    "elif nota > 4 and nota < 7:\n",
    "    print(\"Exame\")\n",
    "else:\n",
    "    print(\"Aprovado\")"
   ]
  }
 ],
 "metadata": {
  "kernelspec": {
   "display_name": "jupyter_env (3.12.3)",
   "language": "python",
   "name": "python3"
  },
  "language_info": {
   "codemirror_mode": {
    "name": "ipython",
    "version": 3
   },
   "file_extension": ".py",
   "mimetype": "text/x-python",
   "name": "python",
   "nbconvert_exporter": "python",
   "pygments_lexer": "ipython3",
   "version": "3.12.3"
  }
 },
 "nbformat": 4,
 "nbformat_minor": 5
}
