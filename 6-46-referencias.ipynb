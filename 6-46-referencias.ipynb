# referencias
# python notes for professionals
# https://books.goalkicker.com/PythonBook/

# Python fluente
# https://www.amazon.com.br/Python-Fluente-Conciso-Guia-Programadores/dp/8575229440