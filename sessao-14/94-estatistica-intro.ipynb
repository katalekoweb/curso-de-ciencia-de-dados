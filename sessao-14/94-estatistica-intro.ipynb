{
 "cells": [
  {
   "cell_type": "code",
   "execution_count": null,
   "id": "b8c14f08",
   "metadata": {},
   "outputs": [],
   "source": [
    "# Estatística é a ciência que coleta, organiza, analisa, interpreta e apresenta dados, com o objetivo de \n",
    "# apoiar a tomada de decisões diante da incerteza. Ela é usada em praticamente todas as áreas do \n",
    "# conhecimento, como saúde, economia, educação, engenharia, entre outras.\n",
    "\n",
    "# 📊 Divisões da Estatística\n",
    "\n",
    "# A estatística é tradicionalmente dividida em duas grandes áreas:\n",
    "\n",
    "# 1. Estatística Descritiva\n",
    "# 👉 Objetivo: Resumir e descrever os dados de forma clara e objetiva.\n",
    "\n",
    "# O que ela faz: Organiza os dados por meio de:\n",
    "# Tabelas\n",
    "# Gráficos\n",
    "# Medidas de tendência central (média, mediana, moda)\n",
    "# Medidas de dispersão (amplitude, variância, desvio padrão)\n",
    "# Exemplo: Calcular a média das notas de uma turma ou criar um gráfico de pizza com as preferências de consumo de uma população.\n",
    "\n",
    "\n",
    "# 2. Estatística Inferencial\n",
    "# 👉 Objetivo: Fazer inferências (conclusões, previsões, estimativas) sobre uma população com base em uma amostra.\n",
    "# O que ela faz: Usa os dados da amostra para:\n",
    "# Estimar parâmetros populacionais (ex: média populacional)\n",
    "# Testar hipóteses\n",
    "# Calcular intervalos de confiança\n",
    "# Prever comportamentos futuros\n",
    "# Exemplo: A partir da entrevista com 1.000 eleitores, prever o resultado de uma eleição nacional."
   ]
  },
  {
   "cell_type": "code",
   "execution_count": null,
   "id": "b5eb841a",
   "metadata": {},
   "outputs": [],
   "source": [
    "## Variaveis\n",
    "# Podem ser Quantitativas (Continuas: Numeros reais) ou  \n",
    "# Qualitativas (Categoricas, texto, nomes)"
   ]
  },
  {
   "cell_type": "code",
   "execution_count": null,
   "id": "659cdab5",
   "metadata": {},
   "outputs": [],
   "source": [
    "# Interpretação\n",
    "# Escolhas / Decisão\n",
    "# Avaliação\n",
    "\n",
    "# Descritiva\n",
    "# Probabilistica\n",
    "# Inferencia"
   ]
  }
 ],
 "metadata": {
  "language_info": {
   "name": "python"
  }
 },
 "nbformat": 4,
 "nbformat_minor": 5
}
