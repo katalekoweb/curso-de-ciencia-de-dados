{
 "cells": [
  {
   "cell_type": "code",
   "execution_count": null,
   "id": "088537a0",
   "metadata": {},
   "outputs": [],
   "source": [
    "# Analise Exploratoria de Dados\n",
    "# AED #EDA\n",
    "\n",
    "# Buscar informcacoes ocultas sobre os dados\n",
    "\n",
    "# Variacao\n",
    "# Anomalias\n",
    "# Distribuição\n",
    "# Tendências\n",
    "# Padrões\n",
    "# Relações\n",
    "\n",
    "# Primeiro analisar os dados so depois tomar decisões para resolver possiveis problemas\n"
   ]
  }
 ],
 "metadata": {
  "language_info": {
   "name": "python"
  }
 },
 "nbformat": 4,
 "nbformat_minor": 5
}
