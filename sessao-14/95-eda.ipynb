{
 "cells": [
  {
   "cell_type": "code",
   "execution_count": null,
   "id": "088537a0",
   "metadata": {},
   "outputs": [],
   "source": [
    "# Analise Exploratoria de Dados\n",
    "# AED #EDA\n",
    "\n",
    "# Buscar informcacoes ocultas sobre os dados"
   ]
  }
 ],
 "metadata": {
  "language_info": {
   "name": "python"
  }
 },
 "nbformat": 4,
 "nbformat_minor": 5
}
