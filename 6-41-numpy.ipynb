{
 "cells": [
  {
   "cell_type": "code",
   "execution_count": 2,
   "id": "6bd7fe89",
   "metadata": {},
   "outputs": [
    {
     "name": "stdout",
     "output_type": "stream",
     "text": [
      "[12 12  3  6  8]\n"
     ]
    }
   ],
   "source": [
    "# numpy - facilita operacoes mateticas avancadas - matrizes e vetctores\n",
    "# numpy tem tamanho fixo em relacao as listas normais\n",
    "# matriz de dados com o mesmo tipo. e mais rapida que listas\n",
    "# numpy tem muitas funcoes para operacoes matematicas\n",
    "\n",
    "# criar uma matriz\n",
    "import numpy as np\n",
    "a = np.array([12,12,3,6,8])\n",
    "print(a)"
   ]
  }
 ],
 "metadata": {
  "kernelspec": {
   "display_name": "jupyter_env",
   "language": "python",
   "name": "python3"
  },
  "language_info": {
   "codemirror_mode": {
    "name": "ipython",
    "version": 3
   },
   "file_extension": ".py",
   "mimetype": "text/x-python",
   "name": "python",
   "nbconvert_exporter": "python",
   "pygments_lexer": "ipython3",
   "version": "3.12.3"
  }
 },
 "nbformat": 4,
 "nbformat_minor": 5
}
