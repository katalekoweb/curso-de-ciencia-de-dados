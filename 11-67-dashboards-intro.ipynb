{
 "cells": [
  {
   "cell_type": "code",
   "execution_count": null,
   "id": "77a5ca86",
   "metadata": {},
   "outputs": [],
   "source": [
    "# nao existe ciencia de dados sem visualizacao\n",
    "# sem ela nao se tem resultados\n",
    "# visualizacao de dados e uma ciencia e uma arte tambem\n",
    "# producao de graficos ocorre durante o processo de analise de dados\n",
    "# os graficos usam-se para conhecer os nossos dados e mostrar os resultados"
   ]
  },
  {
   "cell_type": "code",
   "execution_count": null,
   "id": "939f2ecd",
   "metadata": {},
   "outputs": [],
   "source": [
    "# Usa-se em duas fases\n",
    "\n",
    "# Fase exploratoria e fase explanatoria\n"
   ]
  }
 ],
 "metadata": {
  "language_info": {
   "name": "python"
  }
 },
 "nbformat": 4,
 "nbformat_minor": 5
}
