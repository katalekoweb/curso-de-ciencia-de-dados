{
 "cells": [
  {
   "cell_type": "code",
   "execution_count": null,
   "id": "3e63d239",
   "metadata": {},
   "outputs": [],
   "source": [
    "# Dicionarios: conjunto de chave/valor associados\n",
    "precos = {\n",
    "    \"lapos\": 5.5,\n",
    "    \"canetas\": 2.5,\n",
    "    \"cadernos\": 15.0,\n",
    "}"
   ]
  },
  {
   "cell_type": "code",
   "execution_count": 5,
   "id": "6f78b43e",
   "metadata": {},
   "outputs": [],
   "source": [
    "# sets - conjuntos nao ordenados e nao repetidos de elementos\n",
    "animais = {\"cachorro\", \"gato\", \"coelho\", \"cachorro\"}"
   ]
  },
  {
   "cell_type": "code",
   "execution_count": null,
   "id": "348ed1d9",
   "metadata": {},
   "outputs": [],
   "source": [
    "# tuplas - listas imutaveis\n",
    "tupla = (1, 2, 3, 4, 5)"
   ]
  }
 ],
 "metadata": {
  "kernelspec": {
   "display_name": "jupyter_env",
   "language": "python",
   "name": "python3"
  },
  "language_info": {
   "codemirror_mode": {
    "name": "ipython",
    "version": 3
   },
   "file_extension": ".py",
   "mimetype": "text/x-python",
   "name": "python",
   "nbconvert_exporter": "python",
   "pygments_lexer": "ipython3",
   "version": "3.12.3"
  }
 },
 "nbformat": 4,
 "nbformat_minor": 5
}
