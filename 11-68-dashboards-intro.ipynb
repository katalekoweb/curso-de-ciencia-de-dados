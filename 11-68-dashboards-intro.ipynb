{
 "cells": [
  {
   "cell_type": "code",
   "execution_count": null,
   "id": "77a5ca86",
   "metadata": {},
   "outputs": [],
   "source": [
    "# dicas para graficos\n",
    "\n",
    "# Colocar informacoes relevantes\n",
    "# Colocar as cores corretas\n",
    "# Usar a psicologia das cores\n",
    "# Controlar o grafico e evitar ao maximo usar scroll. o grafico deve caber na teka do usuario"
   ]
  }
 ],
 "metadata": {
  "language_info": {
   "name": "python"
  }
 },
 "nbformat": 4,
 "nbformat_minor": 5
}
