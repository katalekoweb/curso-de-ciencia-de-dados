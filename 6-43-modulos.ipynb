{
 "cells": [
  {
   "cell_type": "code",
   "execution_count": 4,
   "id": "d56e2623",
   "metadata": {},
   "outputs": [
    {
     "name": "stdout",
     "output_type": "stream",
     "text": [
      "4.166666666666667\n"
     ]
    }
   ],
   "source": [
    "# modulos - conjunto de funcionalidades organizadas e que podem ser impotadas\n",
    "\n",
    "import statistics as est\n",
    "x = est.mean([1, 2, 3, 4, 5, 10])\n",
    "print(x)"
   ]
  },
  {
   "cell_type": "code",
   "execution_count": null,
   "id": "9a6f40c9",
   "metadata": {},
   "outputs": [],
   "source": [
    "from statistics import mean, median;\n",
    "\n",
    "# packages permite organizar modulos usando uma notcao de pontos"
   ]
  },
  {
   "cell_type": "code",
   "execution_count": null,
   "id": "c46b0cc8",
   "metadata": {},
   "outputs": [],
   "source": [
    "# para instalar pacotes usamos o pip\n",
    "# pip install nome_do_pacote"
   ]
  }
 ],
 "metadata": {
  "kernelspec": {
   "display_name": "jupyter_env",
   "language": "python",
   "name": "python3"
  },
  "language_info": {
   "codemirror_mode": {
    "name": "ipython",
    "version": 3
   },
   "file_extension": ".py",
   "mimetype": "text/x-python",
   "name": "python",
   "nbconvert_exporter": "python",
   "pygments_lexer": "ipython3",
   "version": "3.12.3"
  }
 },
 "nbformat": 4,
 "nbformat_minor": 5
}
