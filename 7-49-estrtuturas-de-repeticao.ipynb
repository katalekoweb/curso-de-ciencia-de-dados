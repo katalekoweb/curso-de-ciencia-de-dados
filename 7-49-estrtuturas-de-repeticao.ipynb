{
 "cells": [
  {
   "cell_type": "code",
   "execution_count": null,
   "id": "41d3eb0a",
   "metadata": {},
   "outputs": [],
   "source": [
    "#  estruturas de repeticao"
   ]
  }
 ],
 "metadata": {
  "language_info": {
   "name": "python"
  }
 },
 "nbformat": 4,
 "nbformat_minor": 5
}
