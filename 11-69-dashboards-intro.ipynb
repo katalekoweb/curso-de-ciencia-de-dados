{
 "cells": [
  {
   "cell_type": "code",
   "execution_count": null,
   "id": "77a5ca86",
   "metadata": {},
   "outputs": [],
   "source": [
    "# dicas para graficos\n",
    "\n",
    "# ACCENT\n",
    "# Evitar graficos de sectores. pizza\n",
    "# Evitar graficos 3D\n",
    "# Cores nao ordenam valores. escalas de cinza sim\n",
    "# Dashboard nunca devem ter uma quantidade muito grande numeros\n",
    "# Um relatorio sim \n",
    "# 20 dados no maximo\n",
    "# O cerebro so consegue guardar de 3 a 9 informacoes visuais\n",
    "# 7 porcento da populacao possui algum certo daltonismo"
   ]
  }
 ],
 "metadata": {
  "language_info": {
   "name": "python"
  }
 },
 "nbformat": 4,
 "nbformat_minor": 5
}
