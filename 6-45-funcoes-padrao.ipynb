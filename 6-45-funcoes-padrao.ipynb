{
 "cells": [
  {
   "cell_type": "code",
   "execution_count": null,
   "id": "01300a39",
   "metadata": {},
   "outputs": [],
   "source": [
    "# funcoes que nao precisam de importacao\n",
    "# abs()\n",
    "# max()\n",
    "# min()\n",
    "# sum()\n",
    "# round()"
   ]
  },
  {
   "cell_type": "code",
   "execution_count": null,
   "id": "6212ed9c",
   "metadata": {},
   "outputs": [],
   "source": [
    "# funcoes da biblioteca statistics\n",
    "# from statistics import *\n",
    "# mean()\n",
    "# median()\n",
    "# mode()\n",
    "# stdev()\n",
    "# variance()"
   ]
  },
  {
   "cell_type": "code",
   "execution_count": null,
   "id": "54512960",
   "metadata": {},
   "outputs": [
    {
     "name": "stdout",
     "output_type": "stream",
     "text": [
      "[[0.24724375 0.12040923 0.86367057 0.12355956 0.39175846 0.38411079\n",
      "  0.28331237 0.64701245]\n",
      " [0.89788349 0.03477031 0.65125291 0.61046021 0.84612892 0.40672525\n",
      "  0.11606096 0.43148204]\n",
      " [0.71928435 0.62159452 0.46662645 0.09819876 0.11542846 0.22427072\n",
      "  0.93131353 0.69316174]\n",
      " [0.85481439 0.37667951 0.22240168 0.48333018 0.44795907 0.92127286\n",
      "  0.72888238 0.40866535]\n",
      " [0.1878534  0.20083345 0.08748244 0.49177351 0.07080212 0.02537397\n",
      "  0.62909365 0.15441919]\n",
      " [0.69039879 0.67906919 0.85028868 0.57049987 0.29975009 0.43865012\n",
      "  0.24985338 0.32661111]\n",
      " [0.30474939 0.13026957 0.86702611 0.96256465 0.2120332  0.68591809\n",
      "  0.82617015 0.13667855]\n",
      " [0.2356862  0.92160255 0.59368452 0.26306662 0.70003749 0.9466717\n",
      "  0.18267791 0.89686253]]\n"
     ]
    }
   ],
   "source": [
    "# numpy \n",
    "from numpy import *\n",
    "a = random.random((8,8)) # cria uma matriz 8x8 com numeros aleatorios\n",
    "print(a)"
   ]
  }
 ],
 "metadata": {
  "kernelspec": {
   "display_name": "jupyter_env",
   "language": "python",
   "name": "python3"
  },
  "language_info": {
   "codemirror_mode": {
    "name": "ipython",
    "version": 3
   },
   "file_extension": ".py",
   "mimetype": "text/x-python",
   "name": "python",
   "nbconvert_exporter": "python",
   "pygments_lexer": "ipython3",
   "version": "3.12.3"
  }
 },
 "nbformat": 4,
 "nbformat_minor": 5
}
