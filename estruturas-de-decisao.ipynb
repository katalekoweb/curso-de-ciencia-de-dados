{
 "cells": [
  {
   "cell_type": "code",
   "execution_count": null,
   "id": "7efd284d-d9f2-4038-a79b-0b313f4591a7",
   "metadata": {},
   "outputs": [],
   "source": [
    "# para decidir diferentes fluxos do programa aseado em condições logicas\n",
    "# Operadores lógicos: And, Or, Not\n",
    "# Operadores de comparação: ==, !=, <, >, <=, >=\n",
    "\n",
    "# O python usa a indentação para definir blocos de código\n",
    "# O bloco de código é o que está indentado após a condição\n",
    "# O bloco de código é executado se a condição for verdadeira"
   ]
  }
 ],
 "metadata": {
  "kernelspec": {
   "display_name": "Python 3 (ipykernel)",
   "language": "python",
   "name": "python3"
  },
  "language_info": {
   "codemirror_mode": {
    "name": "ipython",
    "version": 3
   },
   "file_extension": ".py",
   "mimetype": "text/x-python",
   "name": "python",
   "nbconvert_exporter": "python",
   "pygments_lexer": "ipython3",
   "version": "3.12.3"
  }
 },
 "nbformat": 4,
 "nbformat_minor": 5
}
