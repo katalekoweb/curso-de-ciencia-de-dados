{
 "cells": [
  {
   "cell_type": "code",
   "execution_count": 2,
   "id": "162a04ac",
   "metadata": {},
   "outputs": [
    {
     "name": "stdout",
     "output_type": "stream",
     "text": [
      "{'Joao': 10, 'Maria': 8, 'Jose': 7}\n"
     ]
    }
   ],
   "source": [
    "# dicionarios\n",
    "# estruturas chave/valor\n",
    "# chave e o identificador do valor\n",
    "# valor e o dado que queremos armazenar\n",
    "Notas = {\n",
    "    'Joao': 10,\n",
    "    'Maria': 8,\n",
    "    'Jose': 7,\n",
    "}\n",
    "print(Notas)"
   ]
  },
  {
   "cell_type": "code",
   "execution_count": 3,
   "id": "4d66ca27",
   "metadata": {},
   "outputs": [
    {
     "name": "stdout",
     "output_type": "stream",
     "text": [
      "10\n",
      "8\n"
     ]
    }
   ],
   "source": [
    "print(Notas['Joao'])  # acessando o valor de uma chave\n",
    "print(Notas['Maria']) # acessando o valor de outra chave"
   ]
  },
  {
   "cell_type": "code",
   "execution_count": 4,
   "id": "9e463b9a",
   "metadata": {},
   "outputs": [
    {
     "name": "stdout",
     "output_type": "stream",
     "text": [
      "dict_keys(['Joao', 'Maria', 'Jose'])\n"
     ]
    }
   ],
   "source": [
    "# sabendo as chaves\n",
    "print(Notas.keys())"
   ]
  },
  {
   "cell_type": "code",
   "execution_count": 7,
   "id": "93048a6b",
   "metadata": {},
   "outputs": [
    {
     "data": {
      "text/plain": [
       "dict_values([10, 8, 7])"
      ]
     },
     "execution_count": 7,
     "metadata": {},
     "output_type": "execute_result"
    }
   ],
   "source": [
    "# Todos os valores\n",
    "Notas.values()"
   ]
  },
  {
   "cell_type": "code",
   "execution_count": 10,
   "id": "18cc0a85",
   "metadata": {},
   "outputs": [
    {
     "name": "stdout",
     "output_type": "stream",
     "text": [
      "True\n",
      "False\n",
      "True\n"
     ]
    }
   ],
   "source": [
    "# testa logicamente a existencia\n",
    "print(\"Joao\" in Notas)\n",
    "print(\"Fernando\" in Notas)\n",
    "print(\"Maria\" in Notas)"
   ]
  },
  {
   "cell_type": "code",
   "execution_count": 11,
   "id": "999d70c8",
   "metadata": {},
   "outputs": [
    {
     "name": "stdout",
     "output_type": "stream",
     "text": [
      "{'Maria': 8, 'Jose': 7}\n"
     ]
    }
   ],
   "source": [
    "# deletar um elemento no dicionario\n",
    "del Notas['Joao']\n",
    "print(Notas)"
   ]
  },
  {
   "cell_type": "code",
   "execution_count": 12,
   "id": "dbd6d96c",
   "metadata": {},
   "outputs": [
    {
     "name": "stdout",
     "output_type": "stream",
     "text": [
      "{'Maria': 8, 'Jose': 7, 'Ana': 9}\n"
     ]
    }
   ],
   "source": [
    "# incluir elemento\n",
    "Notas['Ana'] = 9\n",
    "print(Notas)"
   ]
  },
  {
   "cell_type": "code",
   "execution_count": 14,
   "id": "7ecf377c",
   "metadata": {},
   "outputs": [
    {
     "data": {
      "text/plain": [
       "'Nao encontrado'"
      ]
     },
     "execution_count": 14,
     "metadata": {},
     "output_type": "execute_result"
    }
   ],
   "source": [
    "# busca de um valor, se nao retorna mostra o segundo parametro\n",
    "Notas.get(\"Anaa\", \"Nao encontrado\")"
   ]
  },
  {
   "cell_type": "code",
   "execution_count": 15,
   "id": "e2445f97",
   "metadata": {},
   "outputs": [
    {
     "name": "stdout",
     "output_type": "stream",
     "text": [
      "{'Hive', 'Sqoop', 'Spark'}\n"
     ]
    }
   ],
   "source": [
    "# sets sao conjuntos nao ordenados de elementos nao repetidos\n",
    "bigdata = {\"Spark\", \"Hive\", \"Sqoop\"}\n",
    "print(bigdata)"
   ]
  },
  {
   "cell_type": "code",
   "execution_count": 16,
   "id": "559c132d",
   "metadata": {},
   "outputs": [
    {
     "name": "stdout",
     "output_type": "stream",
     "text": [
      "{'Hive', 'Sqoop', 'Spark', 'Madoop'}\n"
     ]
    }
   ],
   "source": [
    "# adiciona elemento\n",
    "bigdata.add(\"Madoop\")\n",
    "print(bigdata)"
   ]
  },
  {
   "cell_type": "code",
   "execution_count": 17,
   "id": "292ac361",
   "metadata": {},
   "outputs": [
    {
     "data": {
      "text/plain": [
       "4"
      ]
     },
     "execution_count": 17,
     "metadata": {},
     "output_type": "execute_result"
    }
   ],
   "source": [
    "# numero de elementos\n",
    "len(bigdata)"
   ]
  },
  {
   "cell_type": "code",
   "execution_count": 19,
   "id": "ebd37c2f",
   "metadata": {},
   "outputs": [
    {
     "name": "stdout",
     "output_type": "stream",
     "text": [
      "True\n"
     ]
    }
   ],
   "source": [
    "# verifica a existencia\n",
    "print(\"Spark\" in bigdata)"
   ]
  },
  {
   "cell_type": "code",
   "execution_count": null,
   "id": "16816162",
   "metadata": {},
   "outputs": [
    {
     "data": {
      "text/plain": [
       "(1, 2, 3, 4, 5, 6, 7)"
      ]
     },
     "execution_count": 21,
     "metadata": {},
     "output_type": "execute_result"
    }
   ],
   "source": [
    "# tuplas sao listas que nao podem ser alteradas\n",
    "# lista usa [], tupla usa parenteses, set usa {}\n",
    "tupla = (1,2,3,4,5,6,7)\n",
    "tupla"
   ]
  },
  {
   "cell_type": "code",
   "execution_count": 22,
   "id": "dffd29f9",
   "metadata": {},
   "outputs": [
    {
     "data": {
      "text/plain": [
       "{(0, 1): 0, (1, 2): 1}"
      ]
     },
     "execution_count": 22,
     "metadata": {},
     "output_type": "execute_result"
    }
   ],
   "source": [
    "# dicinarios formado por tuplas\n",
    "dic1 = {(0,1): 0, (1,2): 1}\n",
    "dic1"
   ]
  },
  {
   "cell_type": "code",
   "execution_count": 23,
   "id": "3502ffb1",
   "metadata": {},
   "outputs": [
    {
     "name": "stdout",
     "output_type": "stream",
     "text": [
      "<class 'dict'>\n",
      "<class 'set'>\n",
      "<class 'tuple'>\n"
     ]
    }
   ],
   "source": [
    "print(type(Notas))\n",
    "print(type(bigdata))\n",
    "print(type(tupla))"
   ]
  }
 ],
 "metadata": {
  "kernelspec": {
   "display_name": "jupyter_env (3.12.3)",
   "language": "python",
   "name": "python3"
  },
  "language_info": {
   "codemirror_mode": {
    "name": "ipython",
    "version": 3
   },
   "file_extension": ".py",
   "mimetype": "text/x-python",
   "name": "python",
   "nbconvert_exporter": "python",
   "pygments_lexer": "ipython3",
   "version": "3.12.3"
  }
 },
 "nbformat": 4,
 "nbformat_minor": 5
}
