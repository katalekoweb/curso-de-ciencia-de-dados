{
 "cells": [
  {
   "cell_type": "code",
   "execution_count": 5,
   "id": "9c89dbcd",
   "metadata": {},
   "outputs": [
    {
     "name": "stdout",
     "output_type": "stream",
     "text": [
      "200\n",
      "Maior valor:  45\n",
      "Menor valor:  1\n",
      "Soma:  108\n",
      "Arredondamento:  2.35\n"
     ]
    }
   ],
   "source": [
    "# funcoes internas\n",
    "print(abs(-200))\n",
    "lst = [1,2,30,30,45]\n",
    "print(\"Maior valor: \", max(lst))\n",
    "print(\"Menor valor: \", min(lst))\n",
    "print(\"Soma: \", sum(lst))\n",
    "print(\"Arredondamento: \", round(2.34567, 2))"
   ]
  },
  {
   "cell_type": "code",
   "execution_count": 8,
   "id": "a2baa606",
   "metadata": {},
   "outputs": [
    {
     "name": "stdout",
     "output_type": "stream",
     "text": [
      "Media:  21.6\n",
      "Mediana:  30\n",
      "Moda:  30\n",
      "Desvio Padrão:  19.346834366376324\n",
      "Variância:  374.3\n"
     ]
    }
   ],
   "source": [
    "# statistics\n",
    "from statistics import *\n",
    "print(\"Media: \", mean(lst))\n",
    "print(\"Mediana: \", median(lst))\n",
    "print(\"Moda: \", mode(lst))\n",
    "print(\"Desvio Padrão: \", stdev(lst))\n",
    "print(\"Variância: \", variance(lst))"
   ]
  },
  {
   "cell_type": "code",
   "execution_count": 9,
   "id": "78ca0767",
   "metadata": {},
   "outputs": [
    {
     "name": "stdout",
     "output_type": "stream",
     "text": [
      "<class 'numpy.ndarray'>\n",
      "[[0.19057353 0.30028434 0.93218592 0.19792248 0.97517036 0.0607229\n",
      "  0.84171048 0.66941824]\n",
      " [0.74314233 0.79303355 0.1875787  0.63668606 0.90457496 0.67324035\n",
      "  0.72036209 0.07340732]\n",
      " [0.29885461 0.87956553 0.94485197 0.3858199  0.08907566 0.31533498\n",
      "  0.00905898 0.61602385]\n",
      " [0.34809587 0.3276871  0.32416268 0.77723307 0.54411329 0.74744985\n",
      "  0.05178721 0.68496308]\n",
      " [0.68936233 0.40618943 0.68896032 0.55194111 0.2461249  0.039366\n",
      "  0.7253917  0.64619655]\n",
      " [0.97390227 0.63340304 0.20888045 0.66809393 0.27843651 0.95373677\n",
      "  0.02462285 0.82085463]\n",
      " [0.70843076 0.39771594 0.1537341  0.29288937 0.91987564 0.57957075\n",
      "  0.64438695 0.87492468]\n",
      " [0.84891353 0.63202974 0.17544342 0.19394457 0.16812781 0.29960296\n",
      "  0.35147901 0.33958699]]\n"
     ]
    }
   ],
   "source": [
    "# numpy\n",
    "from numpy import *\n",
    "a = random.random((8,8))\n",
    "print(type(a))\n",
    "print(a)"
   ]
  }
 ],
 "metadata": {
  "kernelspec": {
   "display_name": "jupyter_env (3.12.3)",
   "language": "python",
   "name": "python3"
  },
  "language_info": {
   "codemirror_mode": {
    "name": "ipython",
    "version": 3
   },
   "file_extension": ".py",
   "mimetype": "text/x-python",
   "name": "python",
   "nbconvert_exporter": "python",
   "pygments_lexer": "ipython3",
   "version": "3.12.3"
  }
 },
 "nbformat": 4,
 "nbformat_minor": 5
}
