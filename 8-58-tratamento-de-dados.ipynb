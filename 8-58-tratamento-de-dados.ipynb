{
 "cells": [
  {
   "cell_type": "code",
   "execution_count": null,
   "id": "b7733a17",
   "metadata": {},
   "outputs": [],
   "source": [
    "# 80% do trabalho do Cientista de dados e com tratamento de dados"
   ]
  },
  {
   "cell_type": "code",
   "execution_count": null,
   "id": "90dc7abf",
   "metadata": {},
   "outputs": [],
   "source": [
    "# existe o momento da produco de dados\n",
    "# existe o momento da analise de dados\n",
    "\n",
    "# linha de producap. exemplo sistema de facturacao, sistema de vigilancia, rh, financeiro\n",
    "# os sistemas analiticos nao produzem dados eles analisam"
   ]
  },
  {
   "cell_type": "code",
   "execution_count": null,
   "id": "66a9d245",
   "metadata": {},
   "outputs": [],
   "source": [
    "# Porque que os dados tem problema?\n",
    "# sistemas sem restricao de entrada de dados\n",
    "# atualizacoes diretas no banco de dados\n",
    "# inconsistencia no processo de carga\n",
    "# erros no processo\n",
    "# sistemas antigos com codificacoes diferentes"
   ]
  },
  {
   "cell_type": "code",
   "execution_count": null,
   "id": "b820c2e7",
   "metadata": {},
   "outputs": [],
   "source": [
    "# Opercao Vs Analitico\n",
    "# Na operacao o dado em seu formato indicidual nao pode ser alterado\n",
    "# No analitico uma informacao isolada nao tem valor individual mas serve para o bem colectivo"
   ]
  },
  {
   "cell_type": "code",
   "execution_count": null,
   "id": "d2f09196",
   "metadata": {},
   "outputs": [],
   "source": [
    "# Problemas que podemos encontrar nos dados\n",
    "\n",
    "# Duplicidade\n",
    "# Consistencia\n",
    "# Completude\n",
    "# Conformidade\n",
    "# Integridade"
   ]
  }
 ],
 "metadata": {
  "language_info": {
   "name": "python"
  }
 },
 "nbformat": 4,
 "nbformat_minor": 5
}
