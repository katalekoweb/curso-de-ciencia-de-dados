{
 "cells": [
  {
   "cell_type": "code",
   "execution_count": 1,
   "id": "f341e52f",
   "metadata": {},
   "outputs": [
    {
     "name": "stdout",
     "output_type": "stream",
     "text": [
      "[1, 2, 3, 4, 5]\n"
     ]
    }
   ],
   "source": [
    "\n",
    "# listas\n",
    "lst = [1,2,3,4,5]\n",
    "print(lst)"
   ]
  },
  {
   "cell_type": "code",
   "execution_count": 2,
   "id": "e46ada11",
   "metadata": {},
   "outputs": [
    {
     "name": "stdout",
     "output_type": "stream",
     "text": [
      "[1, 2.5, 'teste', True]\n"
     ]
    }
   ],
   "source": [
    "# varis tipos\n",
    "lst2 = [1, 2.5, 'teste', True]\n",
    "print(lst2)"
   ]
  },
  {
   "cell_type": "code",
   "execution_count": 3,
   "id": "88467d8f",
   "metadata": {},
   "outputs": [
    {
     "name": "stdout",
     "output_type": "stream",
     "text": [
      "[1, 2.5, 'teste', True, [1, 2, 3]]\n"
     ]
    }
   ],
   "source": [
    "# lista com lista\n",
    "lst3 = [1, 2.5, 'teste', True, [1, 2, 3]]\n",
    "print(lst3)"
   ]
  },
  {
   "cell_type": "code",
   "execution_count": 4,
   "id": "718a97ff",
   "metadata": {},
   "outputs": [
    {
     "name": "stdout",
     "output_type": "stream",
     "text": [
      "[1, 2, 3, 4, 5, 6, 7, 8, 9, 10]\n"
     ]
    }
   ],
   "source": [
    "# craindo lista com range\n",
    "lst4 = list(range(1, 11)) # estamos criando uma lista de 1 a 10\n",
    "print(lst4)"
   ]
  },
  {
   "cell_type": "code",
   "execution_count": 7,
   "id": "a35a7627",
   "metadata": {},
   "outputs": [
    {
     "name": "stdout",
     "output_type": "stream",
     "text": [
      "10\n"
     ]
    }
   ],
   "source": [
    "# comprimento de lista\n",
    "print(len(lst4))"
   ]
  },
  {
   "cell_type": "code",
   "execution_count": 13,
   "id": "7d780bfc",
   "metadata": {},
   "outputs": [
    {
     "name": "stdout",
     "output_type": "stream",
     "text": [
      "160\n",
      "10\n",
      "[160, 2, 3, 4, 5, 6, 7, 8, 9, 10]\n",
      "[160, 2, 3, 4, 5, 6, 7, 8, 9, 10]\n"
     ]
    }
   ],
   "source": [
    "# acessando elementos\n",
    "print(lst4[0])  # primeiro elemento\n",
    "print(lst4[-1]) # último elemento\n",
    "\n",
    "# alelterando a posição de um elemento\n",
    "print(lst4)\n",
    "lst4[0] = 160\n",
    "print(lst4)"
   ]
  },
  {
   "cell_type": "code",
   "execution_count": null,
   "id": "792de5a3",
   "metadata": {},
   "outputs": [],
   "source": [
    "# percorrendo lista\n",
    "for n in range(0, len(lst4)):\n",
    "    print(lst4[n]+1)"
   ]
  }
 ],
 "metadata": {
  "kernelspec": {
   "display_name": "jupyter_env (3.12.3)",
   "language": "python",
   "name": "python3"
  },
  "language_info": {
   "codemirror_mode": {
    "name": "ipython",
    "version": 3
   },
   "file_extension": ".py",
   "mimetype": "text/x-python",
   "name": "python",
   "nbconvert_exporter": "python",
   "pygments_lexer": "ipython3",
   "version": "3.12.3"
  }
 },
 "nbformat": 4,
 "nbformat_minor": 5
}
