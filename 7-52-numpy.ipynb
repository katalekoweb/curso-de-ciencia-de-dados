{
 "cells": [
  {
   "cell_type": "code",
   "execution_count": 2,
   "id": "b51d2f15",
   "metadata": {},
   "outputs": [],
   "source": [
    "# numpy\n",
    "import numpy as np"
   ]
  },
  {
   "cell_type": "code",
   "execution_count": 3,
   "id": "2676768c",
   "metadata": {},
   "outputs": [
    {
     "name": "stdout",
     "output_type": "stream",
     "text": [
      "[12 34 26 18 10]\n",
      "<class 'numpy.ndarray'>\n"
     ]
    }
   ],
   "source": [
    "# cria uma matriz unidimensional\n",
    "mt = np.array([12,34,26,18,10])\n",
    "print(mt)\n",
    "print(type(mt))"
   ]
  },
  {
   "cell_type": "code",
   "execution_count": 4,
   "id": "8f7bae02",
   "metadata": {},
   "outputs": [
    {
     "name": "stdout",
     "output_type": "stream",
     "text": [
      "[1. 2. 3.]\n",
      "<class 'numpy.ndarray'>\n",
      "[1 2 3]\n",
      "<class 'numpy.ndarray'>\n"
     ]
    }
   ],
   "source": [
    "# criar um arrar com um tipo especifico\n",
    "# cria um array como float de 64 bits\n",
    "mtfloat = np.array([1,2,3], dtype=np.float64)\n",
    "print(mtfloat)\n",
    "print(type(mtfloat))\n",
    "\n",
    "# int array\n",
    "mtint = np.array([1,2,3], dtype=np.int32)\n",
    "print(mtint)\n",
    "print(type(mtint))"
   ]
  },
  {
   "cell_type": "code",
   "execution_count": 5,
   "id": "9763e132",
   "metadata": {},
   "outputs": [
    {
     "name": "stdout",
     "output_type": "stream",
     "text": [
      "[ 1.4   3.6  -5.1   9.42]\n",
      "[ 1  3 -5  9]\n"
     ]
    }
   ],
   "source": [
    "# mudar o tipo do array\n",
    "# podemos mudar tipos de dados de array\n",
    "mtnew = np.array([1.4,3.6,-5.1,9.42])\n",
    "print(mtnew)\n",
    "\n",
    "# quando transformados de float para int os valores sao truncados\n",
    "mtnewint = mtnew.astype(np.int32)\n",
    "print(mtnewint)"
   ]
  },
  {
   "cell_type": "code",
   "execution_count": 8,
   "id": "6d194a57",
   "metadata": {},
   "outputs": [
    {
     "name": "stdout",
     "output_type": "stream",
     "text": [
      "[1 2 3 5 6]\n",
      "[1. 2. 3. 5. 6.]\n"
     ]
    }
   ],
   "source": [
    "# podemos fazer o inverso\n",
    "mt5 = np.array([1,2,3,5,6])\n",
    "print(mt5)\n",
    "\n",
    "mt6 = mt5.astype(float)\n",
    "print(mt6)"
   ]
  },
  {
   "cell_type": "code",
   "execution_count": 9,
   "id": "3eb27227",
   "metadata": {},
   "outputs": [
    {
     "name": "stdout",
     "output_type": "stream",
     "text": [
      "[[2 6 8]\n",
      " [1 4 6]\n",
      " [8 2 5]]\n"
     ]
    }
   ],
   "source": [
    "# mais de uma dimensao\n",
    "mt7 = np.array([[2,6,8], [1,4,6], [8,2,5]])\n",
    "print(mt7)"
   ]
  },
  {
   "cell_type": "code",
   "execution_count": 13,
   "id": "f5973fd8",
   "metadata": {},
   "outputs": [
    {
     "name": "stdout",
     "output_type": "stream",
     "text": [
      "[[      164513623               0]\n",
      " [    12884901890              33]\n",
      " [125063548386096       170687024]]\n",
      "__________\n",
      "[[0. 0. 0.]\n",
      " [0. 0. 0.]\n",
      " [0. 0. 0.]\n",
      " [0. 0. 0.]]\n",
      "__________\n",
      "[[1. 1. 1. 1. 1. 1. 1.]\n",
      " [1. 1. 1. 1. 1. 1. 1.]\n",
      " [1. 1. 1. 1. 1. 1. 1.]\n",
      " [1. 1. 1. 1. 1. 1. 1.]\n",
      " [1. 1. 1. 1. 1. 1. 1.]]\n",
      "[[1. 0. 0. 0. 0.]\n",
      " [0. 1. 0. 0. 0.]\n",
      " [0. 0. 1. 0. 0.]\n",
      " [0. 0. 0. 1. 0.]\n",
      " [0. 0. 0. 0. 1.]]\n"
     ]
    }
   ],
   "source": [
    "# criar arrays com varios tipos\n",
    "# empty significa que nao sao inicializados\n",
    "\n",
    "vazio = np.empty([3,2], dtype=int)\n",
    "print(vazio)\n",
    "print(\"__________\")\n",
    "zeros = np.zeros([4,3])\n",
    "print(zeros)\n",
    "print(\"__________\")\n",
    "ones = np.ones([5,7])\n",
    "print(ones)\n",
    "# cria uma matriz quadrada com diagnonal principal com valores 1 e outros valores zero\n",
    "diagonal = np.eye(5)\n",
    "print(diagonal)"
   ]
  },
  {
   "cell_type": "code",
   "execution_count": 14,
   "id": "72bab547",
   "metadata": {},
   "outputs": [
    {
     "name": "stdout",
     "output_type": "stream",
     "text": [
      "[0.10290921 0.75636473 0.83973723 0.91680673 0.4713231 ]\n"
     ]
    }
   ],
   "source": [
    "# valores aleatorios entre zero e um\n",
    "ale = np.random.random((5))\n",
    "print(ale)"
   ]
  },
  {
   "cell_type": "code",
   "execution_count": 16,
   "id": "60904110",
   "metadata": {},
   "outputs": [
    {
     "name": "stdout",
     "output_type": "stream",
     "text": [
      "[-0.50818304 -1.01013408  0.22140852  0.6150185  -0.12067349]\n"
     ]
    }
   ],
   "source": [
    "# valores aleatorios distibuidos normal contendo negativos\n",
    "ale2 = np.random.randn((5))\n",
    "print(ale2)"
   ]
  },
  {
   "cell_type": "code",
   "execution_count": 17,
   "id": "13578c55",
   "metadata": {},
   "outputs": [
    {
     "name": "stdout",
     "output_type": "stream",
     "text": [
      "[[8.88575035 7.82402796 8.98731251 5.17788697]\n",
      " [5.92321616 6.51305959 3.67159508 0.18232577]\n",
      " [6.73617051 6.77848935 7.59795579 4.30318446]]\n"
     ]
    }
   ],
   "source": [
    "# valores aleatorios 3 * 4\n",
    "ale3 = (10 * np.random.random((3,4)))\n",
    "print(ale3)"
   ]
  },
  {
   "cell_type": "code",
   "execution_count": 33,
   "id": "60be7d8a",
   "metadata": {},
   "outputs": [
    {
     "name": "stdout",
     "output_type": "stream",
     "text": [
      "[0.51182162 0.9504637  0.14415961]\n",
      "[[8 9 2 3]\n",
      " [8 4 2 8]\n",
      " [2 4 6 5]]\n"
     ]
    }
   ],
   "source": [
    "# outra forma de gerar valores aleatorios\n",
    "# uso da semente\n",
    "\n",
    "gnr = np.random.default_rng(1) # semente\n",
    "# reproduzir o teste da mesma forma como foram gerados. sem mudar os dados tem que gerar uma semente\n",
    "\n",
    "ale5 = gnr.random(3)\n",
    "print(ale5)\n",
    "\n",
    "# gerar inteiros\n",
    "ale6 = gnr.integers(10, size=(3,4))\n",
    "print(ale6)"
   ]
  },
  {
   "cell_type": "code",
   "execution_count": 36,
   "id": "90e1052b",
   "metadata": {},
   "outputs": [
    {
     "name": "stdout",
     "output_type": "stream",
     "text": [
      "[ 2  3  6  7 11 14]\n"
     ]
    }
   ],
   "source": [
    "# metodo unique\n",
    "j = np.array([11,2,3,6,7,2,3,11,14,2,3])\n",
    "j = np.unique(j)\n",
    "print(j)"
   ]
  },
  {
   "cell_type": "code",
   "execution_count": 41,
   "id": "debdca95",
   "metadata": {},
   "outputs": [
    {
     "name": "stdout",
     "output_type": "stream",
     "text": [
      "[[11  4  5]\n",
      " [12  6  7]\n",
      " [ 9 12 10]]\n",
      "4\n",
      "(3, 3)\n"
     ]
    }
   ],
   "source": [
    "# funcoes especificas\n",
    "\n",
    "# criar uma matriz bidimensional\n",
    "k = np.array([[11,4,5], [12,6,7], [9,12,10]])\n",
    "print(k)\n",
    "\n",
    "# mostrar elemento especifico da matriz\n",
    "print(k[0][1])\n",
    "\n",
    "# mostra o tamanho das dimensoes da matriz k\n",
    "print(k.shape)"
   ]
  },
  {
   "cell_type": "code",
   "execution_count": 53,
   "id": "782a3dcf",
   "metadata": {},
   "outputs": [
    {
     "name": "stdout",
     "output_type": "stream",
     "text": [
      "12\n",
      "4\n",
      "76\n",
      "8.444444444444445\n",
      "2.8717439962933526\n"
     ]
    }
   ],
   "source": [
    "# funcoes matematicas\n",
    "\n",
    "# Mostrar o maior valor da matriz k\n",
    "print(k.max())\n",
    "\n",
    "# Mostrar o menor valor da matriz k\n",
    "print(k.min())\n",
    "\n",
    "# Mostrar a soma dos valores da matriz k\n",
    "print(k.sum())\n",
    "\n",
    "# Mostrar o valor da media dos valores da matriz k\n",
    "print(k.mean())\n",
    "\n",
    "# Mostrar o valor do desvio padrao (standard deviation) da matriz da matriz k\n",
    "print(k.std())"
   ]
  },
  {
   "cell_type": "code",
   "execution_count": 56,
   "id": "bfd682c8",
   "metadata": {},
   "outputs": [
    {
     "name": "stdout",
     "output_type": "stream",
     "text": [
      "[1. 2. 3. 4. 5. 6.]\n",
      "[2.71828183e+00 5.45981500e+01 8.10308393e+03 8.88611052e+06\n",
      " 7.20048993e+10 4.31123155e+15]\n"
     ]
    }
   ],
   "source": [
    "# funcoes universais, aplicadas a todos elementos\n",
    "# Mostra o valor da raiz quadrada de todos elementos\n",
    "k1 = np.array([1,4,9,16,25,36])\n",
    "print(np.sqrt(k1))\n",
    "\n",
    "# Mostra o valor do exponencial de todos elementos\n",
    "print(np.exp(k1))"
   ]
  },
  {
   "cell_type": "code",
   "execution_count": 64,
   "id": "d9d610cd",
   "metadata": {},
   "outputs": [
    {
     "name": "stdout",
     "output_type": "stream",
     "text": [
      "2\n",
      "[1 2]\n",
      "[2 3 4 5 6]\n",
      "[4 5 6]\n"
     ]
    }
   ],
   "source": [
    "# extracao de elementos\n",
    "m = np.array([1,2,3,4,5,6])\n",
    "\n",
    "# mostra o elemento na posicao 2\n",
    "print(m[1])\n",
    "\n",
    "# Mostra o array criado a partir dos elementos 0, dois elementos\n",
    "print(m[0:2]) # os intervalos ignoram o ultimo valor sempre\n",
    "\n",
    "# Mostra os elementos do array a partir da 2a posicao\n",
    "print(m[1:])\n",
    "\n",
    "# Mostra a partir da antepenultima\n",
    "print(m[-3:])\n"
   ]
  },
  {
   "cell_type": "code",
   "execution_count": 75,
   "id": "5a5effaa",
   "metadata": {},
   "outputs": [
    {
     "name": "stdout",
     "output_type": "stream",
     "text": [
      "[[4 6]\n",
      " [1 5]\n",
      " [9 4]]\n",
      "[4 6]\n",
      "[1 5]\n",
      "[9 4]\n",
      "[4 1 9]\n",
      "[6 5 4]\n"
     ]
    }
   ],
   "source": [
    "# extracao de linhas e colunas\n",
    "l = np.array([[4,6], [1,5], [9,4]])\n",
    "print(l)\n",
    "\n",
    "# primeira linha todos elementos\n",
    "print(l[0, :])\n",
    "\n",
    "# segunda linha todos elementos\n",
    "print(l[1, :])\n",
    "\n",
    "# terceira linha todos elementos\n",
    "print(l[2, :])\n",
    "\n",
    "# todas linhas primeira coluna\n",
    "print(l[:, 0])\n",
    "\n",
    "# todas linhas segunda coluna\n",
    "print(l[:, 1])"
   ]
  },
  {
   "cell_type": "code",
   "execution_count": 82,
   "id": "c80b24bb",
   "metadata": {},
   "outputs": [
    {
     "name": "stdout",
     "output_type": "stream",
     "text": [
      "[[2 3]\n",
      " [4 5]]\n",
      "[[1 2]\n",
      " [3 4]]\n",
      "[[4 6 6]\n",
      " [5 9 7]\n",
      " [4 7 6]]\n"
     ]
    }
   ],
   "source": [
    "# adicao e multiplicacao de matrizes\n",
    "n = np.array([[1,2], [3,4]])\n",
    "o = np.array([[1,1], [1,1]])\n",
    "\n",
    "# soma\n",
    "res1 = n+o\n",
    "print(res1)\n",
    "\n",
    "# multiplcacao\n",
    "print(n*o)\n",
    "\n",
    "# estruturas diferentes\n",
    "mta = np.array([[2,5,4], [3,8,5], [2,6,4]])\n",
    "mtb = np.array([[2,1,2]])\n",
    "print(mta+mtb)"
   ]
  },
  {
   "cell_type": "code",
   "execution_count": 83,
   "id": "76d802e9",
   "metadata": {},
   "outputs": [
    {
     "name": "stdout",
     "output_type": "stream",
     "text": [
      "[[ 0  1  2  3  4]\n",
      " [ 5  6  7  8  9]\n",
      " [10 11 12 13 14]]\n",
      "[[ 0  5 10]\n",
      " [ 1  6 11]\n",
      " [ 2  7 12]\n",
      " [ 3  8 13]\n",
      " [ 4  9 14]]\n"
     ]
    }
   ],
   "source": [
    "# transposicao - transformar linhas em colunas\n",
    "f = np.arange(15).reshape((3,5))\n",
    "print(f)\n",
    "\n",
    "s = f.T\n",
    "print(s)"
   ]
  },
  {
   "cell_type": "code",
   "execution_count": 85,
   "id": "b1eea994",
   "metadata": {},
   "outputs": [
    {
     "name": "stdout",
     "output_type": "stream",
     "text": [
      "[[ 0  1  2  3  4]\n",
      " [ 5  6  7  8  9]\n",
      " [10 11 12 13 14]]\n",
      "[[ 0  5 10]\n",
      " [ 1  6 11]\n",
      " [ 2  7 12]\n",
      " [ 3  8 13]\n",
      " [ 4  9 14]]\n"
     ]
    }
   ],
   "source": [
    "# Outra forma de fazer mesmo resultado \n",
    "r = np.arange(15).reshape((3,5))\n",
    "print(r)\n",
    "\n",
    "s = r.transpose((1,0))\n",
    "print(s)"
   ]
  },
  {
   "cell_type": "code",
   "execution_count": 94,
   "id": "2750c43b",
   "metadata": {},
   "outputs": [
    {
     "name": "stdout",
     "output_type": "stream",
     "text": [
      "[[-0.5765604   0.09581865 -1.22575596  1.96207736]\n",
      " [ 0.85646538  0.15451339  0.34228224  0.24696482]\n",
      " [ 0.17758697  1.2291152   0.9077877   0.72944566]\n",
      " [ 0.47526099 -1.98464204 -1.16873062 -0.16213404]]\n",
      "[[False  True False  True]\n",
      " [ True  True  True  True]\n",
      " [ True  True  True  True]\n",
      " [ True False False False]]\n",
      "[[-1  1 -1  1]\n",
      " [ 1  1  1  1]\n",
      " [ 1  1  1  1]\n",
      " [ 1 -1 -1 -1]]\n"
     ]
    }
   ],
   "source": [
    "# expressoes logicas\n",
    "# usando where\n",
    "# criando matriz com valores aleatorios positivos e negativos\n",
    "v = np.random.randn(4,4)\n",
    "print(v)\n",
    "\n",
    "# criando matriz com valores booleanos baseados na matriz v\n",
    "x = (v > 0)\n",
    "print(x)\n",
    "\n",
    "# criando matriz com valores 1 e -1 baseado nos valores do array x\n",
    "z = np.where(x > 0, 1, -1)\n",
    "print(z)"
   ]
  },
  {
   "cell_type": "code",
   "execution_count": null,
   "id": "489cf6b5",
   "metadata": {},
   "outputs": [],
   "source": []
  }
 ],
 "metadata": {
  "kernelspec": {
   "display_name": "jupyter_env (3.12.3)",
   "language": "python",
   "name": "python3"
  },
  "language_info": {
   "codemirror_mode": {
    "name": "ipython",
    "version": 3
   },
   "file_extension": ".py",
   "mimetype": "text/x-python",
   "name": "python",
   "nbconvert_exporter": "python",
   "pygments_lexer": "ipython3",
   "version": "3.12.3"
  }
 },
 "nbformat": 4,
 "nbformat_minor": 5
}
