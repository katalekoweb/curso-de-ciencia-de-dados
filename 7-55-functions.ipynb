{
 "cells": [
  {
   "cell_type": "code",
   "execution_count": null,
   "id": "41c4341d",
   "metadata": {},
   "outputs": [],
   "source": [
    "# functions"
   ]
  }
 ],
 "metadata": {
  "language_info": {
   "name": "python"
  }
 },
 "nbformat": 4,
 "nbformat_minor": 5
}
